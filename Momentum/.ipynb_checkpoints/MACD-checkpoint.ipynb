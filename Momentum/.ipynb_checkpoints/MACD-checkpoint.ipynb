{
 "cells": [
  {
   "cell_type": "markdown",
   "id": "39a0729b",
   "metadata": {},
   "source": [
    "## MACD Cross Over Strategy"
   ]
  },
  {
   "cell_type": "markdown",
   "id": "d8c5800d",
   "metadata": {},
   "source": [
    "### Importing Libraries"
   ]
  },
  {
   "cell_type": "code",
   "execution_count": 1,
   "id": "cd04744e",
   "metadata": {},
   "outputs": [],
   "source": [
    "import numpy as np\n",
    "import pandas as pd\n",
    "import matplotlib.pyplot as plt\n",
    "\n",
    "import requests\n",
    "import json\n",
    "from datetime import datetime as dt\n",
    "\n",
    "plt.rcParams['figure.figsize'] = (20, 12)\n",
    "plt.style.use('fivethirtyeight')"
   ]
  },
  {
   "cell_type": "markdown",
   "id": "fc6a1f54",
   "metadata": {},
   "source": [
    "### Get Data From Binance API"
   ]
  },
  {
   "cell_type": "code",
   "execution_count": 2,
   "id": "e395de6a",
   "metadata": {},
   "outputs": [],
   "source": [
    "def get_klines(symbol, interval, limit=500):\n",
    "    url = 'https://fapi.binance.com/fapi/v1/klines'\n",
    "    \n",
    "    params = {\n",
    "        'symbol': symbol,\n",
    "        'interval': interval,\n",
    "        'limit': limit\n",
    "    }\n",
    "    \n",
    "    data = pd.DataFrame(json.loads(requests.get(url, params=params).text))\n",
    "    data = data.iloc[:,0:6]\n",
    "    data.columns = ['Open Time', 'Open', 'High', 'Low', 'Close', 'Volume']\n",
    "    data['Open Time'] = [dt.fromtimestamp(x / 1000) for x in data['Open Time']]\n",
    "    data['Open'] = data['Open'].astype(float)\n",
    "    data['High'] = data['High'].astype(float)\n",
    "    data['Low'] = data['Low'].astype(float)\n",
    "    data['Close'] = data['Close'].astype(float)\n",
    "    \n",
    "    return data"
   ]
  },
  {
   "cell_type": "code",
   "execution_count": 4,
   "id": "5d4a13de",
   "metadata": {},
   "outputs": [
    {
     "ename": "NameError",
     "evalue": "name 'simbol' is not defined",
     "output_type": "error",
     "traceback": [
      "\u001b[0;31m---------------------------------------------------------------------------\u001b[0m",
      "\u001b[0;31mNameError\u001b[0m                                 Traceback (most recent call last)",
      "Cell \u001b[0;32mIn[4], line 1\u001b[0m\n\u001b[0;32m----> 1\u001b[0m data \u001b[38;5;241m=\u001b[39m get_klines(\u001b[38;5;124m'\u001b[39m\u001b[38;5;124mBTCUSDT\u001b[39m\u001b[38;5;124m'\u001b[39m, \u001b[38;5;124m'\u001b[39m\u001b[38;5;124m15m\u001b[39m\u001b[38;5;124m'\u001b[39m, \u001b[38;5;241m500\u001b[39m)\n\u001b[1;32m      2\u001b[0m data\n",
      "Cell \u001b[0;32mIn[2], line 5\u001b[0m, in \u001b[0;36mget_klines\u001b[0;34m(symbol, interval, limit)\u001b[0m\n\u001b[1;32m      1\u001b[0m \u001b[38;5;28;01mdef\u001b[39;00m \u001b[38;5;21mget_klines\u001b[39m(symbol, interval, limit\u001b[38;5;241m=\u001b[39m\u001b[38;5;241m500\u001b[39m):\n\u001b[1;32m      2\u001b[0m     url \u001b[38;5;241m=\u001b[39m \u001b[38;5;124m'\u001b[39m\u001b[38;5;124mhttps://fapi.binance.com/fapi/v1/klines\u001b[39m\u001b[38;5;124m'\u001b[39m\n\u001b[1;32m      4\u001b[0m     params \u001b[38;5;241m=\u001b[39m {\n\u001b[0;32m----> 5\u001b[0m         \u001b[38;5;124m'\u001b[39m\u001b[38;5;124msymbol\u001b[39m\u001b[38;5;124m'\u001b[39m: simbol,\n\u001b[1;32m      6\u001b[0m         \u001b[38;5;124m'\u001b[39m\u001b[38;5;124minterval\u001b[39m\u001b[38;5;124m'\u001b[39m: interval,\n\u001b[1;32m      7\u001b[0m         \u001b[38;5;124m'\u001b[39m\u001b[38;5;124mlimit\u001b[39m\u001b[38;5;124m'\u001b[39m: limit\n\u001b[1;32m      8\u001b[0m     }\n\u001b[1;32m     10\u001b[0m     data \u001b[38;5;241m=\u001b[39m pd\u001b[38;5;241m.\u001b[39mDataFrame(json\u001b[38;5;241m.\u001b[39mloads(requests\u001b[38;5;241m.\u001b[39mget(url, params\u001b[38;5;241m=\u001b[39mparams)\u001b[38;5;241m.\u001b[39mtext))\n\u001b[1;32m     11\u001b[0m     data \u001b[38;5;241m=\u001b[39m data\u001b[38;5;241m.\u001b[39miloc[:,\u001b[38;5;241m0\u001b[39m:\u001b[38;5;241m6\u001b[39m]\n",
      "\u001b[0;31mNameError\u001b[0m: name 'simbol' is not defined"
     ]
    }
   ],
   "source": [
    "data = get_klines('BTCUSDT', '15m', 500)\n",
    "data"
   ]
  },
  {
   "cell_type": "markdown",
   "id": "dda50e30",
   "metadata": {},
   "source": [
    "### Implement the indicators"
   ]
  },
  {
   "cell_type": "markdown",
   "id": "937ad955",
   "metadata": {},
   "source": [
    "### Plot the data"
   ]
  },
  {
   "cell_type": "markdown",
   "id": "050a5c6f",
   "metadata": {},
   "source": [
    "### Implement the strategy"
   ]
  },
  {
   "cell_type": "markdown",
   "id": "42d60bfa",
   "metadata": {},
   "source": [
    "### Plot the signals"
   ]
  },
  {
   "cell_type": "markdown",
   "id": "41a6efcb",
   "metadata": {},
   "source": []
  }
 ],
 "metadata": {
  "kernelspec": {
   "display_name": "Python 3 (ipykernel)",
   "language": "python",
   "name": "python3"
  },
  "language_info": {
   "codemirror_mode": {
    "name": "ipython",
    "version": 3
   },
   "file_extension": ".py",
   "mimetype": "text/x-python",
   "name": "python",
   "nbconvert_exporter": "python",
   "pygments_lexer": "ipython3",
   "version": "3.11.5"
  }
 },
 "nbformat": 4,
 "nbformat_minor": 5
}
